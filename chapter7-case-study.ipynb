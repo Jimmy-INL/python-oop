{
 "cells": [
  {
   "cell_type": "code",
   "execution_count": 5,
   "metadata": {
    "collapsed": false
   },
   "outputs": [],
   "source": [
    "import smtplib\n",
    "from email.mime.text import MIMEText\n",
    "\n",
    "\n",
    "def send_email(subject, message, from_addr, *to_addrs,\n",
    "               host=\"localhost\", port=1025, headers=None):\n",
    "\n",
    "    headers = {} if headers is None else headers\n",
    "    \n",
    "    email = MIMEText(message)\n",
    "    email['Subject'] = subject\n",
    "    email['From'] = from_addr\n",
    "    for header, value in headers.items():\n",
    "        email[header] = value\n",
    "\n",
    "    sender = smtplib.SMTP(host, port)\n",
    "    for addr in to_addrs:\n",
    "        del email['To']\n",
    "        email['To'] = addr\n",
    "        sender.sendmail(from_addr, addr, email.as_string())\n",
    "\n",
    "    sender.quit()\n"
   ]
  },
  {
   "cell_type": "code",
   "execution_count": 6,
   "metadata": {
    "collapsed": true
   },
   "outputs": [],
   "source": [
    "send_email(\"A model subject\", \"The message contents\",\n",
    " \"from@example.com\", \"to1@example.com\", \"to2@example.com\")"
   ]
  },
  {
   "cell_type": "code",
   "execution_count": 13,
   "metadata": {
    "collapsed": true
   },
   "outputs": [],
   "source": [
    "from collections import defaultdict\n",
    "\n",
    "class MailingList:\n",
    "    '''Manage groups of e-mail addresses for sending e-mails.'''\n",
    "    def __init__(self):\n",
    "        self.email_map = defaultdict(set)\n",
    "        \n",
    "    def add_to_group(self, email, group):\n",
    "        self.email_map[email].add(group)\n",
    "        \n",
    "    def emails_in_groups(self, *groups):\n",
    "        groups = set(groups)\n",
    "        return {e for (e, g) in self.email_map.items() if g & groups}\n",
    "    \n",
    "    def send_mailing(self, subject, message, from_addr,\n",
    "           *groups, **kwargs):\n",
    "        emails = self.emails_in_groups(*groups)\n",
    "        send_email(subject, message, from_addr,\n",
    "               *emails, **kwargs)"
   ]
  },
  {
   "cell_type": "code",
   "execution_count": 14,
   "metadata": {
    "collapsed": false
   },
   "outputs": [],
   "source": [
    "m = MailingList()\n",
    "m.add_to_group(\"friend1@example.com\", \"friends\")\n",
    "m.add_to_group(\"friend2@example.com\", \"friends\")\n",
    "m.add_to_group(\"family1@example.com\", \"family\")\n",
    "m.add_to_group(\"pro1@example.com\", \"professional\")\n",
    "\n",
    "m.send_mailing(\"A Party\", \"Friends and family only: a party\", \"me@example.com\", \"friends\",\n",
    "\"family\", headers={\"Reply-To\": \"me2@example.com\"})"
   ]
  },
  {
   "cell_type": "code",
   "execution_count": null,
   "metadata": {
    "collapsed": true
   },
   "outputs": [],
   "source": []
  }
 ],
 "metadata": {
  "kernelspec": {
   "display_name": "Python 3",
   "language": "python",
   "name": "python3"
  },
  "language_info": {
   "codemirror_mode": {
    "name": "ipython",
    "version": 3
   },
   "file_extension": ".py",
   "mimetype": "text/x-python",
   "name": "python",
   "nbconvert_exporter": "python",
   "pygments_lexer": "ipython3",
   "version": "3.5.1"
  }
 },
 "nbformat": 4,
 "nbformat_minor": 0
}
