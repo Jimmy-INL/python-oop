{
 "cells": [
  {
   "cell_type": "code",
   "execution_count": 30,
   "metadata": {
    "collapsed": false
   },
   "outputs": [],
   "source": [
    "class Document(object):\n",
    "    def __init__(self):\n",
    "        self.characters = []\n",
    "        self.cursor = Cursor(self)\n",
    "        self.filename = ''\n",
    "    \n",
    "    def insert(self, character):\n",
    "        if not hasattr(character, 'character'):\n",
    "            character = Character(character)\n",
    "        \n",
    "        self.characters.insert(self.cursor.position, character)\n",
    "        self.cursor.forward()\n",
    "        \n",
    "    def delete(self):\n",
    "        del self.characters[self.cursor.position]\n",
    "        \n",
    "    def save(self):\n",
    "        f = open(self.filename, 'w')\n",
    "        f.write(''.join(self.characters))\n",
    "        f.close()\n",
    "        \n",
    "    @property\n",
    "    def string(self):\n",
    "        return \"\".join((str(c) for c in self.characters))\n",
    "\n",
    "\n",
    "class Character:\n",
    "    def __init__(self, character, bold=False, italic=False, underline=False):\n",
    "        assert len(character) == 1\n",
    "        self.character = character\n",
    "        self.bold = bold\n",
    "        self.italic = italic\n",
    "        self.underline = underline\n",
    "\n",
    "    def __str__(self):\n",
    "        bold = \"*\" if self.bold else ''\n",
    "        italic = \"/\" if self.italic else ''\n",
    "        underline = \"_\" if self.underline else ''\n",
    "        return bold + italic + underline + self.character\n",
    "\n",
    "\n",
    "class Cursor:\n",
    "    def __init__(self, document):\n",
    "        self.document = document\n",
    "        self.position = 0\n",
    "        \n",
    "    def forward(self):\n",
    "        self.position += 1\n",
    "        \n",
    "    def back(self):\n",
    "        self.position -= 1\n",
    "        \n",
    "    def home(self):\n",
    "        while self.document.characters[self.position-1].character != '\\n':\n",
    "            self.position -= 1\n",
    "            if self.position == 0:\n",
    "                # Got to beginning of file before newline\n",
    "                break\n",
    "                \n",
    "    def end(self):\n",
    "        while self.position < len(self.document.characters) and \\\n",
    "              self.document.characters[self.position].character != '\\n':\n",
    "            self.position += 1\n"
   ]
  },
  {
   "cell_type": "code",
   "execution_count": 13,
   "metadata": {
    "collapsed": false
   },
   "outputs": [
    {
     "data": {
      "text/plain": [
       "'hello'"
      ]
     },
     "execution_count": 13,
     "metadata": {},
     "output_type": "execute_result"
    }
   ],
   "source": [
    "doc = Document()\n",
    "doc.filename = \"test_document\"\n",
    "doc.insert('h')\n",
    "doc.insert('e')\n",
    "doc.insert('l')\n",
    "doc.insert('l')\n",
    "doc.insert('o')\n",
    "\"\".join(doc.characters)"
   ]
  },
  {
   "cell_type": "code",
   "execution_count": 14,
   "metadata": {
    "collapsed": true
   },
   "outputs": [],
   "source": [
    "doc.back()\n",
    "doc.delete()\n",
    "doc.insert('p')\n",
    "\"\".join(doc.characters)"
   ]
  },
  {
   "cell_type": "code",
   "execution_count": 28,
   "metadata": {
    "collapsed": false
   },
   "outputs": [
    {
     "name": "stdout",
     "output_type": "stream",
     "text": [
      "hello\n",
      "*world\n"
     ]
    }
   ],
   "source": [
    "d = Document()\n",
    "d.insert('h')\n",
    "d.insert('e')\n",
    "d.insert('l')\n",
    "d.insert('l')\n",
    "d.insert('o')\n",
    "d.insert('\\n')\n",
    "d.insert('w')\n",
    "d.insert('o')\n",
    "d.insert('r')\n",
    "d.insert('l')\n",
    "d.insert('d')\n",
    "d.cursor.home()\n",
    "d.insert(\"*\")\n",
    "print(d.string)"
   ]
  },
  {
   "cell_type": "code",
   "execution_count": 31,
   "metadata": {
    "collapsed": false
   },
   "outputs": [
    {
     "name": "stdout",
     "output_type": "stream",
     "text": [
      "he*l*lo\n",
      "/w/o_rld\n"
     ]
    }
   ],
   "source": [
    "d = Document()\n",
    "d.insert('h')\n",
    "d.insert('e')\n",
    "d.insert(Character('l', bold=True))\n",
    "d.insert(Character('l', bold=True))\n",
    "d.insert('o')\n",
    "d.insert('\\n')\n",
    "d.insert(Character('w', italic=True))\n",
    "d.insert(Character('o', italic=True))\n",
    "d.insert(Character('r', underline=True))\n",
    "d.insert('l')\n",
    "d.insert('d')\n",
    "print(d.string)"
   ]
  },
  {
   "cell_type": "code",
   "execution_count": 32,
   "metadata": {
    "collapsed": false
   },
   "outputs": [
    {
     "name": "stdout",
     "output_type": "stream",
     "text": [
      "he*l*lo\n",
      "W/o_rld\n"
     ]
    }
   ],
   "source": [
    "d.cursor.home()\n",
    "d.delete()\n",
    "d.insert('W')\n",
    "print(d.string)"
   ]
  },
  {
   "cell_type": "code",
   "execution_count": 33,
   "metadata": {
    "collapsed": false
   },
   "outputs": [
    {
     "name": "stdout",
     "output_type": "stream",
     "text": [
      "_he*l*lo\n",
      "W/o_rld\n"
     ]
    }
   ],
   "source": [
    "d.characters[0].underline = True\n",
    "print(d.string)"
   ]
  },
  {
   "cell_type": "code",
   "execution_count": null,
   "metadata": {
    "collapsed": true
   },
   "outputs": [],
   "source": []
  }
 ],
 "metadata": {
  "kernelspec": {
   "display_name": "Python 3",
   "language": "python",
   "name": "python3"
  },
  "language_info": {
   "codemirror_mode": {
    "name": "ipython",
    "version": 3
   },
   "file_extension": ".py",
   "mimetype": "text/x-python",
   "name": "python",
   "nbconvert_exporter": "python",
   "pygments_lexer": "ipython3",
   "version": "3.5.1"
  }
 },
 "nbformat": 4,
 "nbformat_minor": 0
}
