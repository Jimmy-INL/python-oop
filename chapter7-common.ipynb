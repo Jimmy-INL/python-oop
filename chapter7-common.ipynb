{
 "cells": [
  {
   "cell_type": "code",
   "execution_count": 1,
   "metadata": {
    "collapsed": false
   },
   "outputs": [
    {
     "data": {
      "text/plain": [
       "4"
      ]
     },
     "execution_count": 1,
     "metadata": {},
     "output_type": "execute_result"
    }
   ],
   "source": [
    "a = [1,2,3,4]\n",
    "a.__len__()"
   ]
  },
  {
   "cell_type": "code",
   "execution_count": 4,
   "metadata": {
    "collapsed": false
   },
   "outputs": [
    {
     "name": "stdout",
     "output_type": "stream",
     "text": [
      "\n",
      "list: 5, 4, 3, 2, 1, \n",
      "CustomSequence: x4, x3, x2, x1, x0, \n",
      "FunkyBackwards: B, A, C, K, W, A, R, D, S, !, "
     ]
    }
   ],
   "source": [
    "normal_list = [1, 2, 3, 4, 5]\n",
    "\n",
    "\n",
    "class CustomSequence():\n",
    "    def __len__(self):\n",
    "        return 5\n",
    "\n",
    "\n",
    "    def __getitem__(self, index):\n",
    "        return \"x{0}\".format(index)\n",
    "\n",
    "\n",
    "class FunkyBackwards(CustomSequence):\n",
    "    def __reversed__(self):\n",
    "        return \"BACKWARDS!\"\n",
    "\n",
    "\n",
    "for seq in normal_list, CustomSequence(), FunkyBackwards():\n",
    "    print(\"\\n{}: \".format(seq.__class__.__name__), end=\"\")\n",
    "    for item in reversed(seq):\n",
    "        print(item, end=\", \")"
   ]
  },
  {
   "cell_type": "code",
   "execution_count": 11,
   "metadata": {
    "collapsed": false
   },
   "outputs": [
    {
     "name": "stdout",
     "output_type": "stream",
     "text": [
      "email: jsmith@example.com -- smith, john\n",
      "email: janed@example.com -- doan, jane\n",
      "email: dn@example.com -- neilson, david\n"
     ]
    }
   ],
   "source": [
    "import sys\n",
    "\n",
    "filename = 'contact.txt'\n",
    "\n",
    "contacts = []\n",
    "with open(filename) as file:\n",
    "    header = file.readline().strip().split(' ')\n",
    "    for line in file:\n",
    "        line = line.strip().split(' ')\n",
    "        contact_map = zip(header, line)\n",
    "        contacts.append(dict(contact_map))\n",
    "\n",
    "for contact in contacts:\n",
    "    print(\"email: {email} -- {last}, {first}\".format(**contact))"
   ]
  },
  {
   "cell_type": "code",
   "execution_count": 23,
   "metadata": {
    "collapsed": false
   },
   "outputs": [
    {
     "data": {
      "text/plain": [
       "[('a', 1), ('b', 2), ('c', 3)]"
      ]
     },
     "execution_count": 23,
     "metadata": {},
     "output_type": "execute_result"
    }
   ],
   "source": [
    "list_one = ['a', 'b', 'c']\n",
    "list_two = [1, 2, 3]\n",
    "zipped = zip(list_one, list_two)\n",
    "zipped = list(zipped)\n",
    "zipped"
   ]
  },
  {
   "cell_type": "code",
   "execution_count": 24,
   "metadata": {
    "collapsed": false
   },
   "outputs": [
    {
     "data": {
      "text/plain": [
       "[('a', 'b', 'c'), (1, 2, 3)]"
      ]
     },
     "execution_count": 24,
     "metadata": {},
     "output_type": "execute_result"
    }
   ],
   "source": [
    "unzipped = zip(*zipped)\n",
    "list(unzipped)"
   ]
  },
  {
   "cell_type": "code",
   "execution_count": 25,
   "metadata": {
    "collapsed": false
   },
   "outputs": [
    {
     "name": "stdout",
     "output_type": "stream",
     "text": [
      "a 1\n",
      "b 2\n",
      "c 3\n"
     ]
    }
   ],
   "source": [
    "list_one = ['a', 'b', 'c']\n",
    "list_two = [1, 2, 3]\n",
    "zipped = zip(list_one, list_two)\n",
    "for z1, z2 in zipped:\n",
    "    print(z1, z2)"
   ]
  },
  {
   "cell_type": "code",
   "execution_count": 30,
   "metadata": {
    "collapsed": false
   },
   "outputs": [
    {
     "data": {
      "text/plain": [
       "(1, 4)"
      ]
     },
     "execution_count": 30,
     "metadata": {},
     "output_type": "execute_result"
    }
   ],
   "source": [
    "def min_max_indexes(seq):\n",
    "    minimum = min(enumerate(seq), key=lambda s: s[1])\n",
    "    maximum = max(enumerate(seq), key=lambda s: s[1])\n",
    "    return minimum[0], maximum[0]\n",
    "\n",
    "alist = [5,0,1,4,6,3]\n",
    "min_max_indexes(alist)"
   ]
  },
  {
   "cell_type": "code",
   "execution_count": 31,
   "metadata": {
    "collapsed": false
   },
   "outputs": [
    {
     "data": {
      "text/plain": [
       "(0, 6)"
      ]
     },
     "execution_count": 31,
     "metadata": {},
     "output_type": "execute_result"
    }
   ],
   "source": [
    "alist[1], alist[4]"
   ]
  },
  {
   "cell_type": "code",
   "execution_count": 34,
   "metadata": {
    "collapsed": false
   },
   "outputs": [
    {
     "data": {
      "text/plain": [
       "{'Le Guin', 'Pratchett', 'Turner'}"
      ]
     },
     "execution_count": 34,
     "metadata": {},
     "output_type": "execute_result"
    }
   ],
   "source": [
    "from collections import namedtuple\n",
    "Book = namedtuple(\"Book\", \"author title genre\")\n",
    "books = [\n",
    "           Book(\"Pratchett\", \"Nightwatch\", \"fantasy\"),\n",
    "           Book(\"Pratchett\", \"Thief Of Time\", \"fantasy\"),\n",
    "           Book(\"Le Guin\", \"The Dispossessed\", \"scifi\"),\n",
    "           Book(\"Le Guin\", \"A Wizard Of Earthsea\", \"fantasy\"),\n",
    "           Book(\"Turner\", \"The Thief\", \"fantasy\"),\n",
    "           Book(\"Phillips\", \"Preston Diamond\", \"western\"),\n",
    "           Book(\"Phillips\", \"Twice Upon A Time\", \"scifi\"),\n",
    "]\n",
    "fantasy_authors = {b.author for b in books if b.genre == 'fantasy'}\n",
    "fantasy_authors"
   ]
  },
  {
   "cell_type": "code",
   "execution_count": 35,
   "metadata": {
    "collapsed": false
   },
   "outputs": [
    {
     "data": {
      "text/plain": [
       "{'A Wizard Of Earthsea': Book(author='Le Guin', title='A Wizard Of Earthsea', genre='fantasy'),\n",
       " 'Nightwatch': Book(author='Pratchett', title='Nightwatch', genre='fantasy'),\n",
       " 'The Thief': Book(author='Turner', title='The Thief', genre='fantasy'),\n",
       " 'Thief Of Time': Book(author='Pratchett', title='Thief Of Time', genre='fantasy')}"
      ]
     },
     "execution_count": 35,
     "metadata": {},
     "output_type": "execute_result"
    }
   ],
   "source": [
    "fantasy_titles = {b.title: b for b in books if b.genre == 'fantasy'}\n",
    "fantasy_titles"
   ]
  },
  {
   "cell_type": "code",
   "execution_count": 39,
   "metadata": {
    "collapsed": false
   },
   "outputs": [],
   "source": [
    "import sys\n",
    "\n",
    "inname = 'log.txt'\n",
    "outname = 'log-out.txt'\n",
    "\n",
    "with open(inname) as infile:\n",
    "    with open(outname, \"w\") as outfile:\n",
    "        warnings = (l.replace('^WARNING', '') for l in infile if 'WARNING' in l)\n",
    "        for l in warnings:\n",
    "            outfile.write(l)"
   ]
  },
  {
   "cell_type": "code",
   "execution_count": 40,
   "metadata": {
    "collapsed": true
   },
   "outputs": [],
   "source": [
    "import sys\n",
    "\n",
    "inname, outname = 'log.txt', 'log-out.txt'\n",
    "\n",
    "\n",
    "class WarningFilter:\n",
    "    def __init__(self, insequence):\n",
    "        self.insequence = insequence\n",
    "\n",
    "    def __iter__(self):\n",
    "        return self\n",
    "\n",
    "    def __next__(self):\n",
    "        l = self.insequence.readline()\n",
    "        while l and 'WARNING' not in l:\n",
    "            l = self.insequence.readline()\n",
    "        if not l:\n",
    "            raise StopIteration\n",
    "        return l.replace('\\tWARNING', '')\n",
    "\n",
    "\n",
    "with open(inname) as infile:\n",
    "    with open(outname, \"w\") as outfile:\n",
    "        filter = WarningFilter(infile)\n",
    "        for l in filter:\n",
    "            outfile.write(l)"
   ]
  },
  {
   "cell_type": "code",
   "execution_count": 46,
   "metadata": {
    "collapsed": true
   },
   "outputs": [],
   "source": [
    "import shutil\n",
    "import os.path\n",
    "\n",
    "\n",
    "def augmented_move(target_folder, *filenames,\n",
    "                   verbose=False, **specific):\n",
    "    '''Move all filenames into the target_folder, allowing\n",
    "    specific treatment of certain files.'''\n",
    "\n",
    "    def print_verbose(message, filename):\n",
    "        '''print the message only if verbose is enabled'''\n",
    "        if verbose:\n",
    "            print(message.format(filename))\n",
    "\n",
    "    for filename in filenames:\n",
    "        target_path = os.path.join(target_folder, filename)\n",
    "        if filename in specific:\n",
    "            if specific[filename] == 'ignore':\n",
    "                print_verbose(\"Ignoring {0}\", filename)\n",
    "            elif specific[filename] == 'copy':\n",
    "                print_verbose(\"Copying {0}\", filename)\n",
    "                shutil.copyfile(filename, target_path)\n",
    "        else:\n",
    "            print_verbose(\"Moving {0}\", filename)\n",
    "            shutil.move(filename, target_path)"
   ]
  },
  {
   "cell_type": "code",
   "execution_count": 48,
   "metadata": {
    "collapsed": false
   },
   "outputs": [],
   "source": [
    "augmented_move(\"move_here\", \"one\", \"two\")"
   ]
  },
  {
   "cell_type": "code",
   "execution_count": 51,
   "metadata": {
    "collapsed": false
   },
   "outputs": [
    {
     "name": "stdout",
     "output_type": "stream",
     "text": [
      "The description: A silly function\n",
      "The name: my_function\n",
      "The class: <class 'function'>\n",
      "Now I'll call the function passed in\n",
      "The Function Was Called\n",
      "The description: A sillier function.\n",
      "The name: second_function\n",
      "The class: <class 'function'>\n",
      "Now I'll call the function passed in\n",
      "The second was called\n"
     ]
    }
   ],
   "source": [
    "def my_function():\n",
    "    print(\"The Function Was Called\")\n",
    "\n",
    "my_function.description = \"A silly function\"\n",
    "\n",
    "\n",
    "def second_function():\n",
    "    print(\"The second was called\")\n",
    "\n",
    "\n",
    "second_function.description = \"A sillier function.\"\n",
    "\n",
    "\n",
    "def another_function(function):\n",
    "    print(\"The description:\", end=\" \")\n",
    "    print(function.description)\n",
    "    print(\"The name:\", end=\" \")\n",
    "    print(function.__name__)\n",
    "    print(\"The class:\", end=\" \")\n",
    "    print(function.__class__)\n",
    "    print(\"Now I'll call the function passed in\")\n",
    "    function()\n",
    "\n",
    "another_function(my_function)\n",
    "another_function(second_function)\n"
   ]
  },
  {
   "cell_type": "code",
   "execution_count": 64,
   "metadata": {
    "collapsed": false
   },
   "outputs": [],
   "source": [
    "import datetime\n",
    "import time\n",
    "\n",
    "\n",
    "class TimedEvent:\n",
    "    def __init__(self, endtime, callback):\n",
    "        self.endtime = endtime\n",
    "        self.callback = callback\n",
    "\n",
    "    def ready(self):\n",
    "        return self.endtime <= datetime.datetime.now()\n",
    "\n",
    "\n",
    "class Timer:\n",
    "    def __init__(self):\n",
    "        self.events = []\n",
    "\n",
    "    def call_after(self, delay, callback):\n",
    "        end_time = datetime.datetime.now() + \\\n",
    "                   datetime.timedelta(seconds=delay)\n",
    "        self.events.append(TimedEvent(end_time, callback))\n",
    "\n",
    "    def run(self):\n",
    "        while True:\n",
    "            ready_events = (e for e in self.events if e.ready())\n",
    "            for event in ready_events:\n",
    "                event.callback(self)\n",
    "                self.events.remove(event)\n",
    "            time.sleep(0.5)\n",
    "\n",
    "import datetime\n",
    "\n",
    "\n",
    "def format_time(message, *args):\n",
    "    now = datetime.datetime.now().strftime(\"%I:%M:%S\")\n",
    "    print(message.format(*args, now=now))\n",
    "\n",
    "\n",
    "def one(timer):\n",
    "    format_time(\"{now}: Called One\")\n",
    "\n",
    "\n",
    "def two(timer):\n",
    "    format_time(\"{now}: Called Two\")\n",
    "\n",
    "\n",
    "def three(timer):\n",
    "    format_time(\"{now}: Called Three\")\n",
    "\n",
    "\n",
    "class Repeater:\n",
    "    def __init__(self):\n",
    "        self.count = 0\n",
    "\n",
    "    def __call__(self, timer):\n",
    "        format_time(\"{now}: repeat {0}\", self.count)\n",
    "        self.count += 1\n",
    "        timer.call_after(5, self)\n",
    "        \n",
    "    def repeater(self, timer):\n",
    "        format_time(\"{now}: repeat {0}\", self.count)\n",
    "        self.count += 1\n",
    "        timer.call_after(5, self.repeater)\n",
    "\n"
   ]
  },
  {
   "cell_type": "code",
   "execution_count": 67,
   "metadata": {
    "collapsed": false
   },
   "outputs": [
    {
     "name": "stdout",
     "output_type": "stream",
     "text": [
      "03:02:23: Starting\n",
      "03:02:24: Called One\n",
      "03:02:25: Called One\n",
      "03:02:26: Called Two\n",
      "03:02:26: Called Three\n"
     ]
    },
    {
     "ename": "KeyboardInterrupt",
     "evalue": "",
     "output_type": "error",
     "traceback": [
      "\u001b[0;31m---------------------------------------------------------------------------\u001b[0m",
      "\u001b[0;31mKeyboardInterrupt\u001b[0m                         Traceback (most recent call last)",
      "\u001b[0;32m<ipython-input-67-d3656622e5fd>\u001b[0m in \u001b[0;36m<module>\u001b[0;34m()\u001b[0m\n\u001b[1;32m     10\u001b[0m \u001b[0mtimer\u001b[0m\u001b[0;34m.\u001b[0m\u001b[0mcall_after\u001b[0m\u001b[0;34m(\u001b[0m\u001b[0;36m5\u001b[0m\u001b[0;34m,\u001b[0m \u001b[0mRepeater\u001b[0m\u001b[0;34m(\u001b[0m\u001b[0;34m)\u001b[0m\u001b[0;34m)\u001b[0m\u001b[0;34m\u001b[0m\u001b[0m\n\u001b[1;32m     11\u001b[0m \u001b[0mformat_time\u001b[0m\u001b[0;34m(\u001b[0m\u001b[0;34m\"{now}: Starting\"\u001b[0m\u001b[0;34m)\u001b[0m\u001b[0;34m\u001b[0m\u001b[0m\n\u001b[0;32m---> 12\u001b[0;31m \u001b[0mtimer\u001b[0m\u001b[0;34m.\u001b[0m\u001b[0mrun\u001b[0m\u001b[0;34m(\u001b[0m\u001b[0;34m)\u001b[0m\u001b[0;34m\u001b[0m\u001b[0m\n\u001b[0m",
      "\u001b[0;32m<ipython-input-64-e9932ef2a5af>\u001b[0m in \u001b[0;36mrun\u001b[0;34m(self)\u001b[0m\n\u001b[1;32m     26\u001b[0m                 \u001b[0mevent\u001b[0m\u001b[0;34m.\u001b[0m\u001b[0mcallback\u001b[0m\u001b[0;34m(\u001b[0m\u001b[0mself\u001b[0m\u001b[0;34m)\u001b[0m\u001b[0;34m\u001b[0m\u001b[0m\n\u001b[1;32m     27\u001b[0m                 \u001b[0mself\u001b[0m\u001b[0;34m.\u001b[0m\u001b[0mevents\u001b[0m\u001b[0;34m.\u001b[0m\u001b[0mremove\u001b[0m\u001b[0;34m(\u001b[0m\u001b[0mevent\u001b[0m\u001b[0;34m)\u001b[0m\u001b[0;34m\u001b[0m\u001b[0m\n\u001b[0;32m---> 28\u001b[0;31m             \u001b[0mtime\u001b[0m\u001b[0;34m.\u001b[0m\u001b[0msleep\u001b[0m\u001b[0;34m(\u001b[0m\u001b[0;36m0.5\u001b[0m\u001b[0;34m)\u001b[0m\u001b[0;34m\u001b[0m\u001b[0m\n\u001b[0m\u001b[1;32m     29\u001b[0m \u001b[0;34m\u001b[0m\u001b[0m\n\u001b[1;32m     30\u001b[0m \u001b[0;32mimport\u001b[0m \u001b[0mdatetime\u001b[0m\u001b[0;34m\u001b[0m\u001b[0m\n",
      "\u001b[0;31mKeyboardInterrupt\u001b[0m: "
     ]
    }
   ],
   "source": [
    "timer = Timer()\n",
    "timer.call_after(1, one)\n",
    "timer.call_after(2, one)\n",
    "timer.call_after(2, two)\n",
    "timer.call_after(4, two)\n",
    "timer.call_after(3, three)\n",
    "timer.call_after(6, three)\n",
    "repeater = Repeater()\n",
    "# timer.call_after(5, repeater.repeater)\n",
    "timer.call_after(5, Repeater())\n",
    "format_time(\"{now}: Starting\")\n",
    "timer.run()"
   ]
  },
  {
   "cell_type": "code",
   "execution_count": null,
   "metadata": {
    "collapsed": true
   },
   "outputs": [],
   "source": []
  }
 ],
 "metadata": {
  "kernelspec": {
   "display_name": "Python 3",
   "language": "python",
   "name": "python3"
  },
  "language_info": {
   "codemirror_mode": {
    "name": "ipython",
    "version": 3
   },
   "file_extension": ".py",
   "mimetype": "text/x-python",
   "name": "python",
   "nbconvert_exporter": "python",
   "pygments_lexer": "ipython3",
   "version": "3.5.1"
  }
 },
 "nbformat": 4,
 "nbformat_minor": 0
}
