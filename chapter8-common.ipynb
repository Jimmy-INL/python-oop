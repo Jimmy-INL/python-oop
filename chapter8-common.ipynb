{
 "cells": [
  {
   "cell_type": "code",
   "execution_count": 9,
   "metadata": {
    "collapsed": false
   },
   "outputs": [
    {
     "name": "stdout",
     "output_type": "stream",
     "text": [
      "Calling test1 with (1, 2, 3) and {}\n",
      "\ttest1 called\n",
      "Executed test1 in 6.103515625e-05ms\n",
      "Calling test2 with (4,) and {'b': 5}\n",
      "\ttest2 called\n",
      "Executed test2 in 1.2874603271484375e-05ms\n",
      "\ttest3 called\n"
     ]
    }
   ],
   "source": [
    "import time\n",
    "def log_calls(func):\n",
    "    def wrapper(*args, **kwargs):\n",
    "        now = time.time()\n",
    "        print(\"Calling {0} with {1} and {2}\".format(\n",
    "           func.__name__, args, kwargs))\n",
    "        return_value = func(*args, **kwargs)\n",
    "        print(\"Executed {0} in {1}ms\".format(\n",
    "           func.__name__, time.time() - now))\n",
    "        return return_value\n",
    "    return wrapper\n",
    "\n",
    "@log_calls\n",
    "def test1(a,b,c):\n",
    "    print(\"\\ttest1 called\")\n",
    "    \n",
    "def test2(a,b):\n",
    "    print(\"\\ttest2 called\")\n",
    "\n",
    "def test3(a,b):\n",
    "    print(\"\\ttest3 called\")\n",
    "    time.sleep(1)\n",
    "\n",
    "# test1 = log_calls(test1)\n",
    "test2 = log_calls(test2)\n",
    "# test3 = log_calls(test3)\n",
    "test1(1,2,3)\n",
    "test2(4,b=5)\n",
    "test3(6,7)"
   ]
  },
  {
   "cell_type": "code",
   "execution_count": 12,
   "metadata": {
    "collapsed": true
   },
   "outputs": [],
   "source": [
    "class Inventory:\n",
    "    def __init__(self):\n",
    "        self.observers = []\n",
    "        self._product = None\n",
    "        self._quantity = 0\n",
    "\n",
    "    def attach(self, observer):\n",
    "        self.observers.append(observer)\n",
    "\n",
    "    @property\n",
    "    def product(self):\n",
    "        return self._product\n",
    "\n",
    "    @product.setter\n",
    "    def product(self, value): \n",
    "        self._product = value\n",
    "        self._update_observers()\n",
    "\n",
    "    @property\n",
    "    def quantity(self):\n",
    "        return self._quantity\n",
    "\n",
    "    @quantity.setter\n",
    "    def quantity(self, value): \n",
    "        self._quantity = value\n",
    "        self._update_observers()\n",
    "\n",
    "    def _update_observers(self):\n",
    "        for observer in self.observers:\n",
    "            observer()\n",
    "            \n",
    "class ConsoleObserver:\n",
    "    def __init__(self, inventory):\n",
    "        self.inventory = inventory\n",
    "\n",
    "    def __call__(self):\n",
    "        print(self.inventory.product)\n",
    "        print(self.inventory.quantity)\n"
   ]
  },
  {
   "cell_type": "code",
   "execution_count": 13,
   "metadata": {
    "collapsed": false
   },
   "outputs": [
    {
     "name": "stdout",
     "output_type": "stream",
     "text": [
      "Widget\n",
      "0\n"
     ]
    }
   ],
   "source": [
    "i = Inventory()\n",
    "c = ConsoleObserver(i)\n",
    "i.attach(c)\n",
    "i.product = \"Widget\""
   ]
  },
  {
   "cell_type": "code",
   "execution_count": 14,
   "metadata": {
    "collapsed": false
   },
   "outputs": [
    {
     "name": "stdout",
     "output_type": "stream",
     "text": [
      "Widget\n",
      "5\n"
     ]
    }
   ],
   "source": [
    "i.quantity = 5"
   ]
  },
  {
   "cell_type": "code",
   "execution_count": 15,
   "metadata": {
    "collapsed": false
   },
   "outputs": [
    {
     "name": "stdout",
     "output_type": "stream",
     "text": [
      "Gadget\n",
      "0\n",
      "Gadget\n",
      "0\n"
     ]
    }
   ],
   "source": [
    "i = Inventory()\n",
    "c1 = ConsoleObserver(i)\n",
    "c2 = ConsoleObserver(i)\n",
    "i.attach(c1)\n",
    "i.attach(c2)\n",
    "i.product = \"Gadget\""
   ]
  },
  {
   "cell_type": "code",
   "execution_count": null,
   "metadata": {
    "collapsed": true
   },
   "outputs": [],
   "source": []
  }
 ],
 "metadata": {
  "kernelspec": {
   "display_name": "Python 3",
   "language": "python",
   "name": "python3"
  },
  "language_info": {
   "codemirror_mode": {
    "name": "ipython",
    "version": 3
   },
   "file_extension": ".py",
   "mimetype": "text/x-python",
   "name": "python",
   "nbconvert_exporter": "python",
   "pygments_lexer": "ipython3",
   "version": "3.5.1"
  }
 },
 "nbformat": 4,
 "nbformat_minor": 0
}
